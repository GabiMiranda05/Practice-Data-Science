{
  "nbformat": 4,
  "nbformat_minor": 0,
  "metadata": {
    "kernelspec": {
      "display_name": "Python 3",
      "language": "python",
      "name": "python3"
    },
    "language_info": {
      "codemirror_mode": {
        "name": "ipython",
        "version": 3
      },
      "file_extension": ".py",
      "mimetype": "text/x-python",
      "name": "python",
      "nbconvert_exporter": "python",
      "pygments_lexer": "ipython3",
      "version": "3.7.3"
    },
    "colab": {
      "provenance": []
    }
  },
  "cells": [
    {
      "cell_type": "markdown",
      "metadata": {
        "id": "Gp2WddtV9IwG"
      },
      "source": [
        "# Programa Ingenias+ Data Science"
      ]
    },
    {
      "cell_type": "markdown",
      "metadata": {
        "id": "X03mviQS9IyL"
      },
      "source": [
        "# Ejercicios\n",
        "\n",
        "1. Crear un arreglo de ceros de longitud 12\n",
        "2. Crear un arreglo de longitud 10 con ceros en todas sus posiciones y un 10 en la posición número 5\n",
        "3. Crear un arreglo que tenga los números del 10 al 49\n",
        "4. Crear una arreglo 2d de shape (3, 3) que tenga los números del 0 al 8\n",
        "5. Crear un arreglo de números aleatorios de longitud 100 y obtener su media y varianza\n",
        "6. Calcular la media de un arreglo usando np.sum\n",
        "7. Calcular la varianza de un arreglo usando np.sum y np.mean\n",
        "8. Crear un array de números aleatorios usando np.random.randn.\n"
      ]
    },
    {
      "cell_type": "code",
      "source": [
        "import numpy as np"
      ],
      "metadata": {
        "id": "4TdytDT8gfe4"
      },
      "execution_count": null,
      "outputs": []
    },
    {
      "cell_type": "code",
      "source": [
        "# Ejercicio 1: Crear un arreglo de ceros de longitud 12\n",
        "arreglo_ceros = np.zeros(12)\n",
        "print(arreglo_ceros)"
      ],
      "metadata": {
        "colab": {
          "base_uri": "https://localhost:8080/"
        },
        "id": "88Jvnbyqd04W",
        "outputId": "e8702c97-98ee-4ec5-deac-8a43e71ed63e"
      },
      "execution_count": null,
      "outputs": [
        {
          "output_type": "stream",
          "name": "stdout",
          "text": [
            "[0. 0. 0. 0. 0. 0. 0. 0. 0. 0. 0. 0.]\n"
          ]
        }
      ]
    },
    {
      "cell_type": "code",
      "source": [
        "# Ejercicio 2: Crear un arreglo de longitud 10 con ceros en todas sus posiciones y un 10 en la posición número 5\n",
        "arreglo_ceros = np.zeros(10)\n",
        "arreglo_ceros[4] = 10\n",
        "print(arreglo_ceros)"
      ],
      "metadata": {
        "colab": {
          "base_uri": "https://localhost:8080/"
        },
        "id": "aMzFq1AvfhGl",
        "outputId": "3bd6e1f7-0392-46cf-c2e2-ed74d6519b30"
      },
      "execution_count": null,
      "outputs": [
        {
          "output_type": "stream",
          "name": "stdout",
          "text": [
            "[ 0.  0.  0.  0. 10.  0.  0.  0.  0.  0.]\n"
          ]
        }
      ]
    },
    {
      "cell_type": "code",
      "source": [
        "# Ejercicio 3: Crear un arreglo que tenga los números del 10 al 49\n",
        "arreglo_numeros = np.arange(10, 50)\n",
        "print(arreglo_numeros)"
      ],
      "metadata": {
        "colab": {
          "base_uri": "https://localhost:8080/"
        },
        "id": "1LoG-tmpgx7P",
        "outputId": "717d784f-2f22-478e-8afe-2769043e2532"
      },
      "execution_count": null,
      "outputs": [
        {
          "output_type": "stream",
          "name": "stdout",
          "text": [
            "[10 11 12 13 14 15 16 17 18 19 20 21 22 23 24 25 26 27 28 29 30 31 32 33\n",
            " 34 35 36 37 38 39 40 41 42 43 44 45 46 47 48 49]\n"
          ]
        }
      ]
    },
    {
      "cell_type": "code",
      "source": [
        "# Ejercicio 4: Crear un arreglo 2d de shape (3,3) que tenga los números del 0 al 8\n",
        "arreglo_2d = np.arange(9).reshape(3, 3)\n",
        "print(arreglo_2d)"
      ],
      "metadata": {
        "colab": {
          "base_uri": "https://localhost:8080/"
        },
        "id": "-zbc3-7ahLu2",
        "outputId": "cb9defa1-183c-48cd-b008-28b70bde3199"
      },
      "execution_count": null,
      "outputs": [
        {
          "output_type": "stream",
          "name": "stdout",
          "text": [
            "[[0 1 2]\n",
            " [3 4 5]\n",
            " [6 7 8]]\n"
          ]
        }
      ]
    },
    {
      "cell_type": "code",
      "source": [
        "# Ejercicio 5: Crear un arreglo de números aleatorios de longitud 100 y obtener su media y varianza\n",
        "arreglo_aleatorio = np.random.randn(100)\n",
        "media = np.mean(arreglo_aleatorio)\n",
        "varianza = np.var(arreglo_aleatorio)\n",
        "print(\"Media:\", media)\n",
        "print(\"Varianza:\", varianza)\n"
      ],
      "metadata": {
        "colab": {
          "base_uri": "https://localhost:8080/"
        },
        "id": "BfDJK58fiOAR",
        "outputId": "75b25019-bef9-4899-b3ba-6f4ac7520163"
      },
      "execution_count": null,
      "outputs": [
        {
          "output_type": "stream",
          "name": "stdout",
          "text": [
            "Media: -0.09752506882437378\n",
            "Varianza: 1.0495472803056285\n"
          ]
        }
      ]
    },
    {
      "cell_type": "code",
      "source": [
        "# Ejercicio 6: Calcular la media de un arreglo usando np.sum\n",
        "arreglo = np.array([1, 2, 3, 4, 5])\n",
        "media = np.sum(arreglo) / len(arreglo)\n",
        "print(\"Media:\", media)"
      ],
      "metadata": {
        "colab": {
          "base_uri": "https://localhost:8080/"
        },
        "id": "O5S9_nQejKCt",
        "outputId": "b8631f49-0cd4-44a9-c7db-b0c8713bb7ef"
      },
      "execution_count": null,
      "outputs": [
        {
          "output_type": "stream",
          "name": "stdout",
          "text": [
            "Media: 3.0\n"
          ]
        }
      ]
    },
    {
      "cell_type": "code",
      "source": [
        "# Ejercicio 7: Calcular la varianza de un arreglo usando np.sum y np.mean\n",
        "arreglo = np.array([1, 2, 3, 4, 5])\n",
        "media = np.mean(arreglo)\n",
        "varianza = np.sum((arreglo - media)**2) / len(arreglo)\n",
        "print(\"Varianza:\", varianza)"
      ],
      "metadata": {
        "colab": {
          "base_uri": "https://localhost:8080/"
        },
        "id": "hnCfEpGDlI15",
        "outputId": "59489d56-1be0-4bfd-c95d-eb9be315ba84"
      },
      "execution_count": null,
      "outputs": [
        {
          "output_type": "stream",
          "name": "stdout",
          "text": [
            "Varianza: 2.0\n"
          ]
        }
      ]
    },
    {
      "cell_type": "code",
      "source": [
        "# Ejercicio 8: Crear un array de números aleatorios usando np.random.randn.\n",
        "arreglo_aleatorio = np.random.randn(10)\n",
        "print(arreglo_aleatorio)"
      ],
      "metadata": {
        "colab": {
          "base_uri": "https://localhost:8080/"
        },
        "id": "R3QCbCKglzyZ",
        "outputId": "2c046e18-bf1d-47fb-c06d-5d7994d21054"
      },
      "execution_count": null,
      "outputs": [
        {
          "output_type": "stream",
          "name": "stdout",
          "text": [
            "[-1.11382397  0.08102914  0.53342186  0.66146525 -0.17954706 -0.40002776\n",
            " -0.05146101  1.34264777 -0.35826401  1.99548893]\n"
          ]
        }
      ]
    }
  ]
}