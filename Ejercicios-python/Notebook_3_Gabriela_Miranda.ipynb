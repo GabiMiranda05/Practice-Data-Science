{
  "nbformat": 4,
  "nbformat_minor": 0,
  "metadata": {
    "kernelspec": {
      "display_name": "Python 3",
      "language": "python",
      "name": "python3"
    },
    "language_info": {
      "codemirror_mode": {
        "name": "ipython",
        "version": 3
      },
      "file_extension": ".py",
      "mimetype": "text/x-python",
      "name": "python",
      "nbconvert_exporter": "python",
      "pygments_lexer": "ipython3",
      "version": "3.7.3"
    },
    "colab": {
      "provenance": []
    }
  },
  "cells": [
    {
      "cell_type": "markdown",
      "metadata": {
        "id": "fUZUxG1CfJKo"
      },
      "source": [
        "# Programa Ingenias+ Data Science"
      ]
    },
    {
      "cell_type": "markdown",
      "metadata": {
        "id": "ZfnZX-ohfJOA"
      },
      "source": [
        "## Clase 2: Funciones y Estructuras de control"
      ]
    },
    {
      "cell_type": "markdown",
      "metadata": {
        "id": "2x9qTs74fJOx"
      },
      "source": [
        "## EJERCICIOS"
      ]
    },
    {
      "cell_type": "markdown",
      "metadata": {
        "id": "KG9ZCYugfJOx"
      },
      "source": [
        "Vamos a poner en practica ahora todo lo que vimos:"
      ]
    },
    {
      "cell_type": "markdown",
      "metadata": {
        "id": "-x2byZQ8fJOx"
      },
      "source": [
        "- Escribi una función que tome dos números enteros y calcule su división, devolviendo si la división es exacta o no."
      ]
    },
    {
      "cell_type": "code",
      "metadata": {
        "id": "7vslfcCNfJOy",
        "outputId": "a87c387d-6f2b-4225-8de9-a5e82e909c0e",
        "colab": {
          "base_uri": "https://localhost:8080/",
          "height": 35
        }
      },
      "source": [
        "def division(a, b):\n",
        " cociente = a // b\n",
        " resto = a % b # El porcentaje te devuelve el resto entre esos dos numeros\n",
        " if resto==0:  # Si es cero el resto es porque el numero es divisible en enteros\n",
        "   return \"la division es exacta\"\n",
        " else:\n",
        "   return \"la division no es exacta\"\n",
        "\n",
        "division(5,2)\n"
      ],
      "execution_count": 2,
      "outputs": [
        {
          "output_type": "execute_result",
          "data": {
            "text/plain": [
              "'la division no es exacta'"
            ],
            "application/vnd.google.colaboratory.intrinsic+json": {
              "type": "string"
            }
          },
          "metadata": {},
          "execution_count": 2
        }
      ]
    },
    {
      "cell_type": "code",
      "metadata": {
        "id": "8OqSS2zmfJOz",
        "colab": {
          "base_uri": "https://localhost:8080/",
          "height": 35
        },
        "outputId": "53b87fc8-0a6c-4bff-93eb-74f2a22f6767"
      },
      "source": [
        "division(100, 2)"
      ],
      "execution_count": 3,
      "outputs": [
        {
          "output_type": "execute_result",
          "data": {
            "text/plain": [
              "'la division es exacta'"
            ],
            "application/vnd.google.colaboratory.intrinsic+json": {
              "type": "string"
            }
          },
          "metadata": {},
          "execution_count": 3
        }
      ]
    },
    {
      "cell_type": "code",
      "metadata": {
        "id": "7lgngWV4fJO1",
        "colab": {
          "base_uri": "https://localhost:8080/",
          "height": 35
        },
        "outputId": "cc79a1d6-f104-4cc1-cb2b-65354f60f5c2"
      },
      "source": [
        "division(7, 3)"
      ],
      "execution_count": 4,
      "outputs": [
        {
          "output_type": "execute_result",
          "data": {
            "text/plain": [
              "'la division no es exacta'"
            ],
            "application/vnd.google.colaboratory.intrinsic+json": {
              "type": "string"
            }
          },
          "metadata": {},
          "execution_count": 4
        }
      ]
    },
    {
      "cell_type": "markdown",
      "metadata": {
        "id": "-e0DATp4fJO3"
      },
      "source": [
        "- Escribi una función que tome un año y devuelva si es bisiesto o no."
      ]
    },
    {
      "cell_type": "code",
      "metadata": {
        "id": "xUetTz2jfJO3"
      },
      "source": [
        "def bisiesto (year):\n",
        "  bisiesto =  year % 4 == 0 and year % 100 != 0\n",
        "\n",
        "  if bisiesto : print (\" es un año bisiesto.\" )\n",
        "  else : print ( \" no es un año bisiesto.\" )\n"
      ],
      "execution_count": 7,
      "outputs": []
    },
    {
      "cell_type": "code",
      "source": [
        "bisiesto(2020)"
      ],
      "metadata": {
        "colab": {
          "base_uri": "https://localhost:8080/"
        },
        "id": "HADKy9dQ8bJx",
        "outputId": "661e0336-5505-4a6b-cb17-2c85780aa93a"
      },
      "execution_count": 8,
      "outputs": [
        {
          "output_type": "stream",
          "name": "stdout",
          "text": [
            " es un año bisiesto.\n"
          ]
        }
      ]
    },
    {
      "cell_type": "code",
      "metadata": {
        "id": "ONRDSQgVfJO4",
        "colab": {
          "base_uri": "https://localhost:8080/"
        },
        "outputId": "91e3a8e3-c8d3-4383-a7c1-166d62540abd"
      },
      "source": [
        "bisiesto(2000)"
      ],
      "execution_count": 11,
      "outputs": [
        {
          "output_type": "stream",
          "name": "stdout",
          "text": [
            " no es un año bisiesto.\n"
          ]
        }
      ]
    },
    {
      "cell_type": "code",
      "metadata": {
        "id": "ov_XeD1WfJO5",
        "colab": {
          "base_uri": "https://localhost:8080/"
        },
        "outputId": "9c1a0ae3-0850-43e4-9984-31e6c47b6933"
      },
      "source": [
        "bisiesto(2017)"
      ],
      "execution_count": 10,
      "outputs": [
        {
          "output_type": "stream",
          "name": "stdout",
          "text": [
            " no es un año bisiesto.\n"
          ]
        }
      ]
    },
    {
      "cell_type": "markdown",
      "metadata": {
        "id": "urIjk2uPfJO7"
      },
      "source": [
        "- Escribi una función que tome los coeficientes de una ecuación de primer grado (a x + b = 0) y devuelva la solución."
      ]
    },
    {
      "cell_type": "code",
      "metadata": {
        "id": "MIqaoDZqfJO7"
      },
      "source": [
        "def solucion(a, b):\n",
        "    return -b/a"
      ],
      "execution_count": 12,
      "outputs": []
    },
    {
      "cell_type": "code",
      "metadata": {
        "id": "YljqjJuTfJO8",
        "colab": {
          "base_uri": "https://localhost:8080/"
        },
        "outputId": "a2ac274d-0467-4661-dbad-b22e1adb2d29"
      },
      "source": [
        "solucion(2, 4)"
      ],
      "execution_count": 13,
      "outputs": [
        {
          "output_type": "execute_result",
          "data": {
            "text/plain": [
              "-2.0"
            ]
          },
          "metadata": {},
          "execution_count": 13
        }
      ]
    },
    {
      "cell_type": "code",
      "metadata": {
        "id": "mIe9eoP5fJO_",
        "colab": {
          "base_uri": "https://localhost:8080/"
        },
        "outputId": "d65b99ef-112d-4648-c996-295666b5c0da"
      },
      "source": [
        "solucion(-3, 5)"
      ],
      "execution_count": 14,
      "outputs": [
        {
          "output_type": "execute_result",
          "data": {
            "text/plain": [
              "1.6666666666666667"
            ]
          },
          "metadata": {},
          "execution_count": 14
        }
      ]
    },
    {
      "cell_type": "code",
      "metadata": {
        "id": "djuJakLUfJPB",
        "colab": {
          "base_uri": "https://localhost:8080/"
        },
        "outputId": "f6a33065-c26c-46b8-be12-24bf30cb06db"
      },
      "source": [
        "solucion(2, -8)"
      ],
      "execution_count": 15,
      "outputs": [
        {
          "output_type": "execute_result",
          "data": {
            "text/plain": [
              "4.0"
            ]
          },
          "metadata": {},
          "execution_count": 15
        }
      ]
    },
    {
      "cell_type": "markdown",
      "metadata": {
        "id": "Xx7VliisfJPF"
      },
      "source": [
        "- Escribi una función que simule un juego en el que dos jugadores tiran un dado. El que saque el valor más alto, gana. Si la puntuación coincide, empatan."
      ]
    },
    {
      "cell_type": "code",
      "metadata": {
        "id": "LCrq4FUPfJPF"
      },
      "source": [
        "def juego(j1,j2):\n",
        "  if j1>j2:\n",
        "    return \"gana el jugador 1\"\n",
        "  elif j1<j2:\n",
        "    return \"gana el jugador 2\"\n",
        "  else:\n",
        "    return \"empate\""
      ],
      "execution_count": 16,
      "outputs": []
    },
    {
      "cell_type": "code",
      "metadata": {
        "id": "H89mIbuEfJPH",
        "colab": {
          "base_uri": "https://localhost:8080/",
          "height": 35
        },
        "outputId": "5c898c6b-d7a8-4f68-f37c-70ce17f80548"
      },
      "source": [
        "juego(343, 545)"
      ],
      "execution_count": 17,
      "outputs": [
        {
          "output_type": "execute_result",
          "data": {
            "text/plain": [
              "'gana el jugador 2'"
            ],
            "application/vnd.google.colaboratory.intrinsic+json": {
              "type": "string"
            }
          },
          "metadata": {},
          "execution_count": 17
        }
      ]
    },
    {
      "cell_type": "markdown",
      "metadata": {
        "id": "7Q28d5YdfJPJ"
      },
      "source": [
        "- Escribi una función que tome dos números enteros y devuelva qué número es pares y cuál impar."
      ]
    },
    {
      "cell_type": "code",
      "source": [
        "def par_impar(a, b):\n",
        "    if a % 2 == 0 and b % 2 == 0:\n",
        "        return \"par-par\"\n",
        "    if a % 2 != 0 and b % 2 != 0:\n",
        "        return \"impar-impar\"\n",
        "    if a % 2 == 0 and b % 2 != 0:\n",
        "        return \"par-impar\"\n",
        "    if a % 2 != 0 and b % 2 != 0:\n",
        "        return \"impar-impar\"\n",
        "\n"
      ],
      "metadata": {
        "id": "6xboZVN1D9s1"
      },
      "execution_count": 18,
      "outputs": []
    },
    {
      "cell_type": "code",
      "metadata": {
        "id": "VRuaAWzsfJPK",
        "colab": {
          "base_uri": "https://localhost:8080/",
          "height": 35
        },
        "outputId": "e1c36ed9-6103-47d7-f04c-bbe416a3e268"
      },
      "source": [
        "par_impar(4, 5)"
      ],
      "execution_count": 19,
      "outputs": [
        {
          "output_type": "execute_result",
          "data": {
            "text/plain": [
              "'par-impar'"
            ],
            "application/vnd.google.colaboratory.intrinsic+json": {
              "type": "string"
            }
          },
          "metadata": {},
          "execution_count": 19
        }
      ]
    },
    {
      "cell_type": "code",
      "metadata": {
        "id": "caJU7DCSfJPM",
        "colab": {
          "base_uri": "https://localhost:8080/",
          "height": 35
        },
        "outputId": "92f5cb23-58d2-4afc-b810-4020f3cc78bd"
      },
      "source": [
        "par_impar(4, 10)"
      ],
      "execution_count": 20,
      "outputs": [
        {
          "output_type": "execute_result",
          "data": {
            "text/plain": [
              "'par-par'"
            ],
            "application/vnd.google.colaboratory.intrinsic+json": {
              "type": "string"
            }
          },
          "metadata": {},
          "execution_count": 20
        }
      ]
    },
    {
      "cell_type": "markdown",
      "metadata": {
        "id": "nuyiy5nKfJPN"
      },
      "source": [
        "- Escribi una función que tome una lista de números y calcule su suma."
      ]
    },
    {
      "cell_type": "code",
      "source": [
        "def suma_lista(lista):\n",
        "  return sum(lista)"
      ],
      "metadata": {
        "id": "COZPW1TRBtZq"
      },
      "execution_count": 4,
      "outputs": []
    },
    {
      "cell_type": "code",
      "source": [
        "suma_lista([1, 4, 5, 7, 8, 9])"
      ],
      "metadata": {
        "colab": {
          "base_uri": "https://localhost:8080/"
        },
        "id": "O57gpjSvB8KC",
        "outputId": "8f11e85c-0f55-449d-fd96-0dbcdc59286a"
      },
      "execution_count": 7,
      "outputs": [
        {
          "output_type": "execute_result",
          "data": {
            "text/plain": [
              "34"
            ]
          },
          "metadata": {},
          "execution_count": 7
        }
      ]
    },
    {
      "cell_type": "markdown",
      "metadata": {
        "id": "xOFXV3tnfJPR"
      },
      "source": [
        "- Escribi una función que tome dos palabras y diga si riman o no. Si coinciden las tres últimas letras debe devolver que riman. Si coinciden sólo las dos últimas tiene que decir que riman algo y si no, que no riman."
      ]
    },
    {
      "cell_type": "code",
      "metadata": {
        "id": "hPKmJVrAfJPR"
      },
      "source": [
        "def riman(palabra1, palabra2):\n",
        "  if palabra1[-3:] == palabra2[-3:]:\n",
        "    return \"riman\"\n",
        "  else:\n",
        "    return \"no riman\""
      ],
      "execution_count": 8,
      "outputs": []
    },
    {
      "cell_type": "code",
      "metadata": {
        "id": "8UZO4wYZfJPT",
        "colab": {
          "base_uri": "https://localhost:8080/",
          "height": 35
        },
        "outputId": "28d2d81d-4311-4dcd-db87-d9c3014ae90e"
      },
      "source": [
        "riman('hola', 'cacerola')"
      ],
      "execution_count": 9,
      "outputs": [
        {
          "output_type": "execute_result",
          "data": {
            "text/plain": [
              "'riman'"
            ],
            "application/vnd.google.colaboratory.intrinsic+json": {
              "type": "string"
            }
          },
          "metadata": {},
          "execution_count": 9
        }
      ]
    },
    {
      "cell_type": "code",
      "metadata": {
        "id": "FwYgQ00nfJPU",
        "colab": {
          "base_uri": "https://localhost:8080/",
          "height": 35
        },
        "outputId": "f2f3d30f-adfe-44ac-ec2e-61403ee99770"
      },
      "source": [
        "riman('jirafa', 'roja')"
      ],
      "execution_count": 10,
      "outputs": [
        {
          "output_type": "execute_result",
          "data": {
            "text/plain": [
              "'no riman'"
            ],
            "application/vnd.google.colaboratory.intrinsic+json": {
              "type": "string"
            }
          },
          "metadata": {},
          "execution_count": 10
        }
      ]
    },
    {
      "cell_type": "code",
      "metadata": {
        "id": "rtz4a7zefJPX",
        "colab": {
          "base_uri": "https://localhost:8080/",
          "height": 35
        },
        "outputId": "b7bc9f41-b759-437a-96db-f64ab7ea21a6"
      },
      "source": [
        "riman('computadora', 'cabecera')"
      ],
      "execution_count": 11,
      "outputs": [
        {
          "output_type": "execute_result",
          "data": {
            "text/plain": [
              "'no riman'"
            ],
            "application/vnd.google.colaboratory.intrinsic+json": {
              "type": "string"
            }
          },
          "metadata": {},
          "execution_count": 11
        }
      ]
    },
    {
      "cell_type": "markdown",
      "metadata": {
        "id": "0yxZUZHmfJPZ"
      },
      "source": [
        "- Escribi una función para convertir temperatura de grados celsius a fahrenheit (Formula : F = C * 9/5 + 32)"
      ]
    },
    {
      "cell_type": "code",
      "source": [
        "def convert_grados(celsius):\n",
        "    return (celsius * 9/5) + 32"
      ],
      "metadata": {
        "id": "xZYDmrvEDMjw"
      },
      "execution_count": 12,
      "outputs": []
    },
    {
      "cell_type": "code",
      "metadata": {
        "id": "velR3kdDfJPa",
        "colab": {
          "base_uri": "https://localhost:8080/"
        },
        "outputId": "dee2823f-3216-4149-fed6-e2d0845a1325"
      },
      "source": [
        "convert_grados(23)"
      ],
      "execution_count": 14,
      "outputs": [
        {
          "output_type": "execute_result",
          "data": {
            "text/plain": [
              "73.4"
            ]
          },
          "metadata": {},
          "execution_count": 14
        }
      ]
    },
    {
      "cell_type": "markdown",
      "metadata": {
        "id": "OXCTEla-fJPb"
      },
      "source": [
        "- Escribi una función que devuelva la serie de Fibonacci entre 0 y 50."
      ]
    },
    {
      "cell_type": "code",
      "metadata": {
        "id": "lJTvAwsFfJPb"
      },
      "source": [
        "def fibonacci(n):\n",
        "    a, b = 0, 1\n",
        "    for _ in range(n):\n",
        "        a, b = b, a + b\n",
        "    return a"
      ],
      "execution_count": 22,
      "outputs": []
    },
    {
      "cell_type": "code",
      "source": [
        "fibonacci(120)"
      ],
      "metadata": {
        "colab": {
          "base_uri": "https://localhost:8080/"
        },
        "id": "3Z_9V3ejLFmb",
        "outputId": "4e6d0778-f3e0-47cc-b336-fbffa964f46b"
      },
      "execution_count": 25,
      "outputs": [
        {
          "output_type": "execute_result",
          "data": {
            "text/plain": [
              "5358359254990966640871840"
            ]
          },
          "metadata": {},
          "execution_count": 25
        }
      ]
    },
    {
      "cell_type": "markdown",
      "metadata": {
        "id": "oLq0uXoIfJPe"
      },
      "source": [
        "**Para seguir practicando chequea este sitio web con [ejercicios](https://projecteuler.net/archives).**"
      ]
    },
    {
      "cell_type": "markdown",
      "source": [
        "#Ejercicio\n",
        "\n",
        "- Los factores primos de 13195  son 5,7,9 y 29. ¿Cuál es el factor primo más grande del número? 600851475143"
      ],
      "metadata": {
        "id": "V0D35rG3U6aG"
      }
    },
    {
      "cell_type": "code",
      "source": [
        "def FP_max(a):\n",
        "    divisor = 2 #Arrancamos con el primo mas chico\n",
        "\n",
        "    while divisor * divisor <= a:\n",
        "        if a % divisor == 0:\n",
        "            a //= divisor  # Dividimos y seguimos con el mismo divisor\n",
        "        else:\n",
        "            divisor += 1  # Probamos con el siguiente número\n",
        "    return a # Cuando termina, a es el factor primo más grande\n",
        "\n",
        "numero = 600851475143\n",
        "resultado = FP_max(numero)\n",
        "print(f\"El factor primo más grande de {numero} es {resultado}\")\n"
      ],
      "metadata": {
        "id": "4i46viYMFvbO",
        "colab": {
          "base_uri": "https://localhost:8080/"
        },
        "outputId": "57a9ed5c-e8e7-4fc7-9b38-2e30d1f34e23"
      },
      "execution_count": 26,
      "outputs": [
        {
          "output_type": "stream",
          "name": "stdout",
          "text": [
            "El factor primo más grande de 600851475143 es 6857\n"
          ]
        }
      ]
    }
  ]
}