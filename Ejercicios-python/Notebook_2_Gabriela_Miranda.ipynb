{
  "nbformat": 4,
  "nbformat_minor": 0,
  "metadata": {
    "kernelspec": {
      "display_name": "Python 3",
      "language": "python",
      "name": "python3"
    },
    "language_info": {
      "codemirror_mode": {
        "name": "ipython",
        "version": 3
      },
      "file_extension": ".py",
      "mimetype": "text/x-python",
      "name": "python",
      "nbconvert_exporter": "python",
      "pygments_lexer": "ipython3",
      "version": "3.7.3"
    },
    "colab": {
      "provenance": []
    }
  },
  "cells": [
    {
      "cell_type": "markdown",
      "metadata": {
        "id": "ZfnZX-ohfJOA"
      },
      "source": [
        "## Clase 2: Funciones y Estructuras de control"
      ]
    },
    {
      "cell_type": "markdown",
      "metadata": {
        "id": "fUZUxG1CfJKo"
      },
      "source": [
        "# Programa Ingenias+ Data Science"
      ]
    },
    {
      "cell_type": "markdown",
      "metadata": {
        "id": "UyqJAomcfJOB"
      },
      "source": [
        "En esta parte de la clase, vamos a estudiar sentencias de código que nos permitiran evaluar expresiones, recorrer estructura de datos o realizar operaciones mas complejas sobre ellas."
      ]
    },
    {
      "cell_type": "markdown",
      "metadata": {
        "id": "rnHu5n2lfJOR"
      },
      "source": [
        "## Definiendo Funciones"
      ]
    },
    {
      "cell_type": "markdown",
      "metadata": {
        "id": "36pZetV8fJOR"
      },
      "source": [
        "Python nos permite crear nuestras propias funciones. Una **función** es una secuencia de sentencias que ejecuta una operación deseada y tiene un nombre. Esta operación se especifica en una definición de función. En Python, la estructura general de una función contiene:\n",
        "\n",
        "- Un encabezado, que empieza con una palabra reservada `def` y termina con dos puntos.\n",
        "- Un cuerpo consistente de una o más sentencias de Python"
      ]
    },
    {
      "cell_type": "markdown",
      "metadata": {
        "id": "XAdT0XJMfJOS"
      },
      "source": [
        "Antes de seguir adelante debemos aclarar algo que es muy importante para la sintaxis de Python. Las funciones de Python no tienen begin o end explícitos, ni llaves que marquen dónde empieza o termina su código, como otros lenguajes de programación. El único delimitador son dos puntos `:` y el **INDENTADO** del propio código."
      ]
    },
    {
      "cell_type": "markdown",
      "metadata": {
        "id": "YfxgbOJcfJOS"
      },
      "source": [
        "Los bloques de código van definidos por su indentados. Con **bloque de código** nos referimos a funciones, sentencias if, bucles for, while, etc. El indentado comienza un bloque y su ausencia lo termina. No hay llaves, corchetes ni palabras clave explícitas. Esto quiere decir que el espacio en blanco es significativo y debe ser consistente."
      ]
    },
    {
      "cell_type": "markdown",
      "metadata": {
        "id": "mmwVW21vfJOS"
      },
      "source": [
        "Por convención, el indentado en Python esta dado por la presencia de **4 espacios**. Veamos entonces la sintaxis para una definición de función en Python y como funciona el indentado."
      ]
    },
    {
      "cell_type": "code",
      "metadata": {
        "id": "_mQ8w7yTfJOT",
        "outputId": "7aab0e8c-c66e-4f32-9cfa-4e7f6c638346",
        "colab": {
          "base_uri": "https://localhost:8080/"
        }
      },
      "source": [
        "#Para definir una funcion en python debo comenzar con def\n",
        "#luego el nombre de la funcion\n",
        "#Entre parentesis declaro los argumentos o variables que debe tomar\n",
        "#la funcion definida\n",
        "def fun(a, b):\n",
        "    #En el cuerpo establezco que hara la función\n",
        "    return a**b\n",
        "fun(2, 8)"
      ],
      "execution_count": 1,
      "outputs": [
        {
          "output_type": "execute_result",
          "data": {
            "text/plain": [
              "256"
            ]
          },
          "metadata": {},
          "execution_count": 1
        }
      ]
    },
    {
      "cell_type": "code",
      "source": [
        "def fun2(a, b, c):\n",
        "  return a+b+c\n",
        "fun2 (3, 6, 9)\n"
      ],
      "metadata": {
        "colab": {
          "base_uri": "https://localhost:8080/"
        },
        "id": "6iIrlJAEaGGO",
        "outputId": "f76a1ad1-3a22-44ee-cc18-27e3ff115dc9"
      },
      "execution_count": 2,
      "outputs": [
        {
          "output_type": "execute_result",
          "data": {
            "text/plain": [
              "18"
            ]
          },
          "metadata": {},
          "execution_count": 2
        }
      ]
    },
    {
      "cell_type": "markdown",
      "metadata": {
        "id": "lZSWiyWrfJOV"
      },
      "source": [
        "Observa que la primer linea no tiene indentado, pero termina con `:`. Esto le indica a Python que alli comienza la función `comparacion`. En la segunda linea, hay un indentado de 4 espacios. Esto le indica a Python que comienza un bloque de código y todo lo que vaya ahi, ira dentro de la función.\n",
        "Luego en la tercer linea, no tenemos identado, lo que le indica a Python que la función `suma` ha finalizado."
      ]
    },
    {
      "cell_type": "markdown",
      "metadata": {
        "id": "Msqz56hVfJOW"
      },
      "source": [
        "`return` devuelve el valor de la función. Se utiliza dentro de una función. Una vez que mi función ejecuta la sentencia return, devuelve el valor especificado y no sigue ejecutando el resto de las lineas."
      ]
    },
    {
      "cell_type": "code",
      "metadata": {
        "id": "v1MTQ3zrfJOX",
        "outputId": "7ea48471-b64d-4001-973f-50723f084c1d",
        "colab": {
          "base_uri": "https://localhost:8080/"
        }
      },
      "source": [
        "def promedio(a, b):\n",
        "    return (a+b)/2\n",
        "promedio(5, 12)"
      ],
      "execution_count": 3,
      "outputs": [
        {
          "output_type": "execute_result",
          "data": {
            "text/plain": [
              "8.5"
            ]
          },
          "metadata": {},
          "execution_count": 3
        }
      ]
    },
    {
      "cell_type": "code",
      "source": [
        "def promedio(f, e):\n",
        "     return (f+e)/2\n",
        "promedio(10, 15)"
      ],
      "metadata": {
        "colab": {
          "base_uri": "https://localhost:8080/"
        },
        "id": "CIBf96GPa4-3",
        "outputId": "2680945f-334e-4f98-9fb0-eede902b9e72"
      },
      "execution_count": 4,
      "outputs": [
        {
          "output_type": "execute_result",
          "data": {
            "text/plain": [
              "12.5"
            ]
          },
          "metadata": {},
          "execution_count": 4
        }
      ]
    },
    {
      "cell_type": "code",
      "metadata": {
        "id": "gQoNYbaYfJOW",
        "colab": {
          "base_uri": "https://localhost:8080/"
        },
        "outputId": "d2d85485-1067-4a5a-f24b-445161a5c137"
      },
      "source": [
        "#Ejecuta el siguiente codigo\n",
        "def promedio(x, y):\n",
        "     return (x + y) / 2\n",
        "promedio (10,5)"
      ],
      "execution_count": 5,
      "outputs": [
        {
          "output_type": "execute_result",
          "data": {
            "text/plain": [
              "7.5"
            ]
          },
          "metadata": {},
          "execution_count": 5
        }
      ]
    },
    {
      "cell_type": "markdown",
      "metadata": {
        "id": "0PLcn5POfJOZ"
      },
      "source": [
        "## IF-staments"
      ]
    },
    {
      "cell_type": "markdown",
      "metadata": {
        "id": "ura0DNLcfJOZ"
      },
      "source": [
        "Para escribir código útil, casi siempre necesitamos la capacidad de comprobar ciertas condiciones y cambiar el comportamiento del código como corresponda. Las sentencias condicionales nos dan esta capacidad.\n",
        "\n",
        "En Python, las sentencias condicionales vienen dadas por la sentencia `if-elif-else`. Veamos varios ejemplos."
      ]
    },
    {
      "cell_type": "code",
      "metadata": {
        "id": "tRoY9tjcfJOZ"
      },
      "source": [
        "x = 3\n",
        "y = 3"
      ],
      "execution_count": 6,
      "outputs": []
    },
    {
      "cell_type": "code",
      "metadata": {
        "id": "7nHPddDSfJOa"
      },
      "source": [
        "#Primero evaluo si x es menor a y\n",
        "if x < y:\n",
        "  #Si lo es imprimo esta secuencia\n",
        "  print(x, \"es menor que\", y)"
      ],
      "execution_count": 7,
      "outputs": []
    },
    {
      "cell_type": "code",
      "source": [
        "a = 4\n",
        "b = 8\n",
        "if a < b:\n",
        "   print(a, \"es menor que\", b)"
      ],
      "metadata": {
        "colab": {
          "base_uri": "https://localhost:8080/"
        },
        "id": "X2Z0r9_xbuw6",
        "outputId": "37ebfb4a-62d6-4de2-9536-0b42dd65c5dc"
      },
      "execution_count": 8,
      "outputs": [
        {
          "output_type": "stream",
          "name": "stdout",
          "text": [
            "4 es menor que 8\n"
          ]
        }
      ]
    },
    {
      "cell_type": "code",
      "source": [
        "if b < a:\n",
        "   print(b, \"es menor que\", a)\n",
        "else:\n",
        "   print(b, \"es mayor que\", a)"
      ],
      "metadata": {
        "colab": {
          "base_uri": "https://localhost:8080/"
        },
        "id": "O7JnBjjucYKJ",
        "outputId": "d17d9aa9-1f15-4a97-d9fa-e2d2360af2c8"
      },
      "execution_count": 9,
      "outputs": [
        {
          "output_type": "stream",
          "name": "stdout",
          "text": [
            "8 es mayor que 4\n"
          ]
        }
      ]
    },
    {
      "cell_type": "code",
      "metadata": {
        "scrolled": true,
        "id": "XV_qQK7VfJOc",
        "colab": {
          "base_uri": "https://localhost:8080/"
        },
        "outputId": "f0b09609-84ef-443c-f245-4460c0f49657"
      },
      "source": [
        "#Primero evaluo si x es menor a y\n",
        "if x < y:\n",
        "    #Si lo es imprimo esta secuencia\n",
        "    print(x, \"es menor que\", y)\n",
        "#Si esto no se cumple\n",
        "else:\n",
        "    #Entonces imprimo esta secuencia\n",
        "    print(x, \"es mayor o igual que\", y)"
      ],
      "execution_count": 10,
      "outputs": [
        {
          "output_type": "stream",
          "name": "stdout",
          "text": [
            "3 es mayor o igual que 3\n"
          ]
        }
      ]
    },
    {
      "cell_type": "code",
      "metadata": {
        "id": "jfkshTiWfJOe"
      },
      "source": [
        "#Primero evaluo si x es menor a y\n",
        "if x < y:\n",
        "    #Si lo es imprimo esta secuencia\n",
        "    print(x, \"es menor que\", y)\n",
        "#Si no lo es evaluo si x es mayor a y\n",
        "elif x > y:\n",
        "    #Si lo es, imprimo ahora esta secuencia\n",
        "    print(x, \"es mayor que\", y)"
      ],
      "execution_count": 11,
      "outputs": []
    },
    {
      "cell_type": "code",
      "source": [
        "if b < a:\n",
        "   print(b, \"es menor que\", a)\n",
        "elif b > a:\n",
        "     print(b, \"es mayor que\", a)\n",
        "else:\n",
        "     print(b, \"b\", a, \"son iguales\")"
      ],
      "metadata": {
        "colab": {
          "base_uri": "https://localhost:8080/"
        },
        "id": "jLg_peWpdDGt",
        "outputId": "9c93359f-6681-4110-bacd-16af214a3c70"
      },
      "execution_count": 12,
      "outputs": [
        {
          "output_type": "stream",
          "name": "stdout",
          "text": [
            "8 es mayor que 4\n"
          ]
        }
      ]
    },
    {
      "cell_type": "code",
      "metadata": {
        "id": "zJrpswURfJOg",
        "colab": {
          "base_uri": "https://localhost:8080/"
        },
        "outputId": "1c7f6929-a357-4056-9118-133a8b820c78"
      },
      "source": [
        "#Primero evaluo si x es menor a y\n",
        "if x < y:\n",
        "    #Si lo es imprimo esta secuencia\n",
        "    print(x, \"es menor que\", y)\n",
        "#Si no lo es evaluo si x es mayor a y\n",
        "elif x > y:\n",
        "    #Si lo es, imprimo ahora esta secuencia\n",
        "    print(x, \"es mayor que\", y)\n",
        "#Si ninguna de las condiciones anteriores se cumple\n",
        "else:\n",
        "    #Entonces imprimo esta secuencia\n",
        "    print(x, \"y\", y, \"son iguales\")"
      ],
      "execution_count": 13,
      "outputs": [
        {
          "output_type": "stream",
          "name": "stdout",
          "text": [
            "3 y 3 son iguales\n"
          ]
        }
      ]
    },
    {
      "cell_type": "markdown",
      "metadata": {
        "id": "mkNV1pv4fJOh"
      },
      "source": [
        "## Iteración"
      ]
    },
    {
      "cell_type": "markdown",
      "metadata": {
        "id": "yUspGGzXfJOh"
      },
      "source": [
        "La ejecución repetida de un conjunto de sentencias se llama **iteración**. Python proporciona varias sentencias que hacen más fácil la iteración."
      ]
    },
    {
      "cell_type": "markdown",
      "metadata": {
        "id": "T2CMjNGZfJOn"
      },
      "source": [
        "## For loops"
      ]
    },
    {
      "cell_type": "markdown",
      "metadata": {
        "id": "TguBoVfSfJOn"
      },
      "source": [
        "Otra sentencia para iteraciones es el bucle `for`, que repite el bloque de código un número prederminado de veces. Observemos ahora su sintaxis:"
      ]
    },
    {
      "cell_type": "code",
      "metadata": {
        "id": "ipcq77bjfJOn"
      },
      "source": [
        "lista_numeros = [0, 1, 2, 3, 4, 10]"
      ],
      "execution_count": null,
      "outputs": []
    },
    {
      "cell_type": "code",
      "source": [
        "lista_nros = [2, 3, 4, 5, 6, 15]\n",
        "for numero in lista_nros:\n",
        "    print(numero)"
      ],
      "metadata": {
        "colab": {
          "base_uri": "https://localhost:8080/"
        },
        "id": "N55yrGrefIrK",
        "outputId": "d91f5d93-4835-4fa7-9b31-877f3d68f3ed"
      },
      "execution_count": null,
      "outputs": [
        {
          "output_type": "stream",
          "name": "stdout",
          "text": [
            "2\n",
            "3\n",
            "4\n",
            "5\n",
            "6\n",
            "15\n"
          ]
        }
      ]
    },
    {
      "cell_type": "code",
      "metadata": {
        "id": "i738AChyfJOo",
        "colab": {
          "base_uri": "https://localhost:8080/"
        },
        "outputId": "c21dd665-313a-43e1-f7c4-fda7fd7734cb"
      },
      "source": [
        "#Para cada elemento en la lista lista_numeros\n",
        "for numero in lista_numeros:\n",
        "    #Mostra el numero\n",
        "    print(numero)"
      ],
      "execution_count": null,
      "outputs": [
        {
          "output_type": "stream",
          "name": "stdout",
          "text": [
            "0\n",
            "1\n",
            "2\n",
            "3\n",
            "4\n",
            "10\n"
          ]
        }
      ]
    },
    {
      "cell_type": "markdown",
      "metadata": {
        "id": "pMCDpe1RfJOq"
      },
      "source": [
        "El cuerpo del bucle `for` se ejecuta tantas veces como elementos tenga el elemento iterable. Cualquier iterable: listas, diccionarios, strings pueden ser utilizados."
      ]
    },
    {
      "cell_type": "code",
      "metadata": {
        "id": "BpaDeomLfJOq",
        "colab": {
          "base_uri": "https://localhost:8080/"
        },
        "outputId": "81a7d4c5-7a92-440d-a5fe-66a1967eb0bf"
      },
      "source": [
        "iterable = \"los 'strings' tambien son iterables!\"\n",
        "for elemento in iterable:\n",
        "    print(elemento)"
      ],
      "execution_count": null,
      "outputs": [
        {
          "output_type": "stream",
          "name": "stdout",
          "text": [
            "l\n",
            "o\n",
            "s\n",
            " \n",
            "'\n",
            "s\n",
            "t\n",
            "r\n",
            "i\n",
            "n\n",
            "g\n",
            "s\n",
            "'\n",
            " \n",
            "t\n",
            "a\n",
            "m\n",
            "b\n",
            "i\n",
            "e\n",
            "n\n",
            " \n",
            "s\n",
            "o\n",
            "n\n",
            " \n",
            "i\n",
            "t\n",
            "e\n",
            "r\n",
            "a\n",
            "b\n",
            "l\n",
            "e\n",
            "s\n",
            "!\n"
          ]
        }
      ]
    },
    {
      "cell_type": "markdown",
      "metadata": {
        "id": "1cRp6JVnfJOs"
      },
      "source": [
        "Los numeros no son iterables. Prueba corriendo el siguiente código."
      ]
    },
    {
      "cell_type": "code",
      "metadata": {
        "id": "5x5nrfIdfJOs",
        "colab": {
          "base_uri": "https://localhost:8080/"
        },
        "outputId": "d3aa200f-e5ce-4d5b-efd6-c79898643b8f"
      },
      "source": [
        "cuatro = \"456\" # Se uso \"456\" para cambiar el numero a string\n",
        "for elemento in cuatro:\n",
        " print(elemento)"
      ],
      "execution_count": 17,
      "outputs": [
        {
          "output_type": "stream",
          "name": "stdout",
          "text": [
            "4\n",
            "5\n",
            "6\n"
          ]
        }
      ]
    },
    {
      "cell_type": "markdown",
      "metadata": {
        "id": "W70GhX9XfJOu"
      },
      "source": [
        "La función range (`range(n)`) genera una secuencia con números desde `0` hasta `n-1`."
      ]
    },
    {
      "cell_type": "code",
      "source": [
        "for h in range(24):\n",
        "   if h % 8 == 0:\n",
        "       print(f\"{h} es divisible por 8\")\n"
      ],
      "metadata": {
        "colab": {
          "base_uri": "https://localhost:8080/"
        },
        "id": "bfVKobZFgNFO",
        "outputId": "9428303e-7ea9-4f04-8a71-ca42b648a18e"
      },
      "execution_count": 18,
      "outputs": [
        {
          "output_type": "stream",
          "name": "stdout",
          "text": [
            "0 es divisible por 8\n",
            "8 es divisible por 8\n",
            "16 es divisible por 8\n"
          ]
        }
      ]
    },
    {
      "cell_type": "code",
      "metadata": {
        "id": "wOT2VZtJfJOv",
        "colab": {
          "base_uri": "https://localhost:8080/"
        },
        "outputId": "26f067cf-eb90-4c9d-d27e-6ec3781aa48e"
      },
      "source": [
        "for j in range(21):\n",
        "    if j % 5 == 0:\n",
        "        print(f\"{j} es divisible por 5\")"
      ],
      "execution_count": 19,
      "outputs": [
        {
          "output_type": "stream",
          "name": "stdout",
          "text": [
            "0 es divisible por 5\n",
            "5 es divisible por 5\n",
            "10 es divisible por 5\n",
            "15 es divisible por 5\n",
            "20 es divisible por 5\n"
          ]
        }
      ]
    }
  ]
}