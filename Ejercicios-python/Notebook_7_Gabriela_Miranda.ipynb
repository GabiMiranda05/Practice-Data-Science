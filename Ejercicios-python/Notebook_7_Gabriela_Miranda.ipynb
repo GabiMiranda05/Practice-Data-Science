{
  "cells": [
    {
      "cell_type": "markdown",
      "metadata": {
        "id": "4CoLDDN0Scje"
      },
      "source": [
        "## Programa Ingenias+ Data Science"
      ]
    },
    {
      "cell_type": "code",
      "execution_count": null,
      "metadata": {
        "id": "pgLvTMrWu2fr"
      },
      "outputs": [],
      "source": [
        "#from google.colab import drive\n",
        "#drive.mount('/content/drive')"
      ]
    },
    {
      "cell_type": "markdown",
      "metadata": {
        "id": "57kc_nckby-s"
      },
      "source": [
        "# Sección nueva"
      ]
    },
    {
      "cell_type": "markdown",
      "metadata": {
        "id": "Rkizi-vlScjg"
      },
      "source": [
        "## Trabajando con Pandas"
      ]
    },
    {
      "cell_type": "markdown",
      "metadata": {
        "id": "VRd6Ow_aScjg"
      },
      "source": [
        "1) Importa las librerias requeridas: `Pandas` y `NumPy`.  \n",
        "\n",
        "Una buena practica a la hora de escribir codigo es de comentar siempre que estoy haciendo (usando `#`) en la linea anterior. Por mas obvio que parezca lo que voy a hacer, puede ser que tenga que compartir el documento con otras personas y no sepan que quise hacer en cada linea. O que yo mismo lea el codigo tiempo despues y no recuerde porque lo hice."
      ]
    },
    {
      "cell_type": "code",
      "execution_count": 1,
      "metadata": {
        "id": "Anvt8yoSScji"
      },
      "outputs": [],
      "source": [
        "import pandas as pd"
      ]
    },
    {
      "cell_type": "markdown",
      "metadata": {
        "id": "5YWvHd--Scjl"
      },
      "source": [
        "2) Lee el archivo csv `life_expectancy_data` usando `pandas`. Guardalo en una variable llamada `expvida`."
      ]
    },
    {
      "cell_type": "code",
      "execution_count": null,
      "metadata": {
        "id": "N_aRUk0Xb0Rv"
      },
      "outputs": [],
      "source": []
    },
    {
      "cell_type": "code",
      "execution_count": null,
      "metadata": {
        "id": "oM1b7mmxScjm"
      },
      "outputs": [],
      "source": [
        "# Leo los datos en un DataFrame\n",
        "expvida = pd.read_csv('/content/Life_Expectancy_Data.csv')"
      ]
    },
    {
      "cell_type": "markdown",
      "metadata": {
        "id": "-a1OoVvIScjp"
      },
      "source": [
        "[texto del vínculo](https:// [texto del vínculo](https://))3) ¿Que tipo de estructura de datos contiene la variable `expvida`?"
      ]
    },
    {
      "cell_type": "code",
      "execution_count": null,
      "metadata": {
        "id": "7R6g46UGScjp"
      },
      "outputs": [],
      "source": [
        "# Obtengo el tipo de estructura de datos\n",
        "type(expvida)"
      ]
    },
    {
      "cell_type": "markdown",
      "metadata": {
        "id": "EBwmuoKKScjv"
      },
      "source": [
        "4) ¿Cuantas filas y columnas tiene `expvida`?"
      ]
    },
    {
      "cell_type": "code",
      "execution_count": null,
      "metadata": {
        "id": "1oKt4xZmScjw"
      },
      "outputs": [],
      "source": [
        "# Uso .shape para obtener cantidad de filas y columnas\n",
        "expvida.shape\n",
        "\n",
        "print(f\"Expvida tiene{\")\n",
        "######################"
      ]
    },
    {
      "cell_type": "markdown",
      "metadata": {
        "id": "O-ICrkf6Scj0"
      },
      "source": [
        "**Numero de filas**:"
      ]
    },
    {
      "cell_type": "markdown",
      "metadata": {
        "id": "zXyS8xzFScj0"
      },
      "source": [
        "**Numero de columnas**:"
      ]
    },
    {
      "cell_type": "markdown",
      "metadata": {
        "id": "V3cNAjIIScj1"
      },
      "source": [
        "5) ¿Cual es el nombre de las columnas contenidas en `expvida`?"
      ]
    },
    {
      "cell_type": "code",
      "execution_count": null,
      "metadata": {
        "id": "Cr61t2ALScj2"
      },
      "outputs": [],
      "source": [
        "# Obtengo el nombre de las columnas\n",
        "expvida.columns"
      ]
    },
    {
      "cell_type": "markdown",
      "metadata": {
        "id": "xbXCaw0mScj5"
      },
      "source": [
        "6) Inspecciona las primeras 10 filas de `expvida`"
      ]
    },
    {
      "cell_type": "code",
      "execution_count": null,
      "metadata": {
        "id": "WSUs6-wmScj6"
      },
      "outputs": [],
      "source": [
        "# Inspecciono las primeras filas\n",
        "expvida.head[10]"
      ]
    },
    {
      "cell_type": "markdown",
      "metadata": {
        "id": "99b7sMhZScj_"
      },
      "source": [
        "7) Y ahora las 10 ultimas."
      ]
    },
    {
      "cell_type": "code",
      "execution_count": null,
      "metadata": {
        "id": "yaMMoHc7Scj_"
      },
      "outputs": [],
      "source": [
        "# Inspecciono las ultimas filas\n",
        "expvida.tail[10]"
      ]
    },
    {
      "cell_type": "markdown",
      "metadata": {
        "id": "thLRW3GjSckC"
      },
      "source": [
        "8) ¿Que tipos de datos contiene cada una de las columnas de `expvida`?"
      ]
    },
    {
      "cell_type": "code",
      "execution_count": null,
      "metadata": {
        "id": "AfAgFAJdSckD"
      },
      "outputs": [],
      "source": [
        "# Tipo de datos en cada columna\n",
        "expvida.dtypes"
      ]
    },
    {
      "cell_type": "markdown",
      "metadata": {
        "id": "7Nsyhb7LSckG"
      },
      "source": [
        "9) ¿Hay valores faltantes en alguna de las columnas de `expvida`?"
      ]
    },
    {
      "cell_type": "code",
      "execution_count": null,
      "metadata": {
        "id": "DP_IgUWzSckI"
      },
      "outputs": [],
      "source": [
        "# Obtengo la cantidad de datos faltantes en cada columna\n",
        "expvida.isnull().sum()"
      ]
    },
    {
      "cell_type": "markdown",
      "metadata": {
        "id": "Q7-bL4tlSckL"
      },
      "source": [
        "10) Selecciona el maximo de datos faltantes. Calcula que porcentaje de los datos representan los datos faltantes."
      ]
    },
    {
      "cell_type": "code",
      "execution_count": null,
      "metadata": {
        "colab": {
          "background_save": true
        },
        "id": "gicdHYh0SckM",
        "outputId": "3331efaf-4efd-4086-8842-1a5feee5b726"
      },
      "outputs": [
        {
          "ename": "SyntaxError",
          "evalue": "invalid syntax (<ipython-input-23-69e21d52ea5a>, line 2)",
          "output_type": "error",
          "traceback": [
            "\u001b[0;36m  File \u001b[0;32m\"<ipython-input-23-69e21d52ea5a>\"\u001b[0;36m, line \u001b[0;32m2\u001b[0m\n\u001b[0;31m    masnan = expvida.isnull().sum()idxmax()\u001b[0m\n\u001b[0m                                   ^\u001b[0m\n\u001b[0;31mSyntaxError\u001b[0m\u001b[0;31m:\u001b[0m invalid syntax\n"
          ]
        }
      ],
      "source": [
        "# Obtengo el maximo valor de datos faltantes y lo guardo en la variable masnan\n",
        "masnan = expvida.isnull().sum().max()\n",
        "\n",
        "print(f\"El valor máximo de datos faltantes es {masnan}\")"
      ]
    },
    {
      "cell_type": "code",
      "execution_count": null,
      "metadata": {
        "id": "Y58Hh90pSckP"
      },
      "outputs": [],
      "source": []
    },
    {
      "cell_type": "code",
      "execution_count": null,
      "metadata": {
        "id": "RuRgzIFBSckT"
      },
      "outputs": [],
      "source": [
        "# Obtengo la cantidad de filas total y divido el maximo valor de datos faltantes por este numero\n",
        "# y lo multiplico por 100\n",
        "\n",
        "filas_total=expvida.shape[0]\n",
        "\n",
        "porcentaje = (masnan / filas_total) * 100\n",
        "\n",
        "print(f\"El porcentaje de filas nulas es igual a {porcentaje:.2f} %\")"
      ]
    },
    {
      "cell_type": "code",
      "execution_count": null,
      "metadata": {
        "id": "1NIY9qQBSckX"
      },
      "outputs": [],
      "source": [
        "# Imprimo el maximo porcentaje de datos faltantes. Uso f-strings.\n",
        "\n",
        "print(f\"El porcentaje máximo de filas nulas es igual a {porcentaje:.2f} %\")\n"
      ]
    },
    {
      "cell_type": "code",
      "execution_count": null,
      "metadata": {
        "id": "FPX2WMEckA7x"
      },
      "outputs": [],
      "source": [
        "por_str = str(porcenataje)\n",
        "\n",
        "type(porcentaje)\n",
        "\n",
        "type(por_str)\n",
        "\n",
        "print(type(por_str))"
      ]
    },
    {
      "cell_type": "markdown",
      "metadata": {
        "id": "r0ukORx9Sckg"
      },
      "source": [
        "- str.format()\n",
        "- Template Class\n",
        "- f-strings"
      ]
    },
    {
      "cell_type": "markdown",
      "metadata": {
        "id": "hUXqdma_Sckj"
      },
      "source": [
        "#### Ahora vamos a realizar algunos calculos y manipulaciones sobre las columnas.\n",
        "\n",
        "> Agregar bloque entrecomillado\n",
        "\n"
      ]
    },
    {
      "cell_type": "markdown",
      "metadata": {
        "id": "eBzg8GYGSckk"
      },
      "source": [
        "Una función útil para este fin es: `.rename()`. Y podemos utilizarla de la siguiente manera: Si `df` es mi DataFrame y quiero renombrar la columna `columna` como `columna1`, y la columna `columna2` como `columna3`, utilizo la siguiente sintaxis:\n",
        "  \n",
        "`df.rename(columns={\"columna\": \"columna1\", \"columna2\": \"columna3\"}, inplace=True)`"
      ]
    },
    {
      "cell_type": "markdown",
      "metadata": {
        "id": "EYINiSHdSckl"
      },
      "source": [
        "11) Renombra la columna 'Life expectancy ' como 'life_expectancy', ' BMI ' como 'bmi' y ''Measles ' como 'measles'. No olvides de usar `inplace` para modificar el DataFrame original. Luego chequea que el cambio se haya hecho correctamente."
      ]
    },
    {
      "cell_type": "code",
      "execution_count": null,
      "metadata": {
        "id": "TL4b2ueXSckm"
      },
      "outputs": [],
      "source": [
        "# Renombro columnas del DataFrame\n",
        "expvida.rename(columns={'Life expectancy':'life_expectancy','BMI':'bmi','Measles':'measles'}, implace=True)"
      ]
    },
    {
      "cell_type": "code",
      "execution_count": null,
      "metadata": {
        "id": "r1RVoERMSckp"
      },
      "outputs": [],
      "source": [
        "# Chequeo que se hayan reemplazado correctamente\n",
        "expvida.columns"
      ]
    },
    {
      "cell_type": "markdown",
      "metadata": {
        "id": "cNXpOsdiScks"
      },
      "source": [
        "12) ¿Cual es el promedio de expectativa de vida (Life expectancy) en general?"
      ]
    },
    {
      "cell_type": "code",
      "execution_count": null,
      "metadata": {
        "colab": {
          "base_uri": "https://localhost:8080/",
          "height": 108
        },
        "id": "OYv3yiXmSckt",
        "outputId": "31536fb3-789c-4896-f71a-a7eff0be358e"
      },
      "outputs": [
        {
          "ename": "SyntaxError",
          "evalue": "invalid syntax (<ipython-input-1-5d021b5fb831>, line 2)",
          "output_type": "error",
          "traceback": [
            "\u001b[0;36m  File \u001b[0;32m\"<ipython-input-1-5d021b5fb831>\"\u001b[0;36m, line \u001b[0;32m2\u001b[0m\n\u001b[0;31m    expvida.[\"life_expectancy\"].mean()\u001b[0m\n\u001b[0m            ^\u001b[0m\n\u001b[0;31mSyntaxError\u001b[0m\u001b[0;31m:\u001b[0m invalid syntax\n"
          ]
        }
      ],
      "source": [
        "# Obtengo el promedio de la columna\n",
        "expvida.[\"life_expectancy\"].mean()\n",
        "\n",
        "print(f\"El promedio de life_expectancy es :\")"
      ]
    },
    {
      "cell_type": "markdown",
      "metadata": {
        "id": "A-bzQhFqSckw"
      },
      "source": [
        "13) ¿Cual es el promedio de expectativa de vida (Life expectancy) por país?"
      ]
    },
    {
      "cell_type": "code",
      "execution_count": null,
      "metadata": {
        "id": "eWN_AJPMSckx"
      },
      "outputs": [],
      "source": [
        "# Obtengo el promedio por pais\n"
      ]
    },
    {
      "cell_type": "markdown",
      "metadata": {
        "id": "YIopZIPrSck0"
      },
      "source": [
        "14) ¿Cual es la expectativa de vida mas alta y mas baja? Usa la funcion de pandas y la funcion de NumPy y compara el resultado. ¿Que paises tienen esas expectativas de vida?"
      ]
    },
    {
      "cell_type": "code",
      "execution_count": null,
      "metadata": {
        "id": "gU8js5J8Sck0"
      },
      "outputs": [],
      "source": [
        "# Maxima expectativa de vida usando numpy\n"
      ]
    },
    {
      "cell_type": "code",
      "execution_count": null,
      "metadata": {
        "id": "_JyNdRuESck2"
      },
      "outputs": [],
      "source": [
        "# Maxima expectativa de vida usando pandas\n"
      ]
    },
    {
      "cell_type": "code",
      "execution_count": null,
      "metadata": {
        "id": "pTCZ9VJXSck4"
      },
      "outputs": [],
      "source": [
        "# Minima expectativa de vida usando numpy\n"
      ]
    },
    {
      "cell_type": "code",
      "execution_count": null,
      "metadata": {
        "id": "BbJ9nW_LSck6"
      },
      "outputs": [],
      "source": [
        "# Minima expectativa de vida usando pandas\n"
      ]
    },
    {
      "cell_type": "code",
      "execution_count": null,
      "metadata": {
        "id": "R83PS8f8Sck8"
      },
      "outputs": [],
      "source": [
        "# Muestro los resultados maximos\n"
      ]
    },
    {
      "cell_type": "code",
      "execution_count": null,
      "metadata": {
        "id": "jUZlYu3BSck_"
      },
      "outputs": [],
      "source": [
        "# Muestro los resultados minimos\n"
      ]
    },
    {
      "cell_type": "code",
      "execution_count": null,
      "metadata": {
        "id": "et_RZ44GSclB"
      },
      "outputs": [],
      "source": [
        "# Filtro las columnas para mostrar solo las filas que tengan valor\n",
        "# igual al maximo\n"
      ]
    },
    {
      "cell_type": "code",
      "execution_count": null,
      "metadata": {
        "id": "IQnm1-44SclE"
      },
      "outputs": [],
      "source": [
        "# Filtro las columnas para mostrar solo las filas que tengan valor\n",
        "# igual al minimo\n"
      ]
    },
    {
      "cell_type": "markdown",
      "metadata": {
        "id": "mk_q0UUdSclq"
      },
      "source": [
        "\\15) ¿Cuantas categorias encontramos en la columna \"Status\"? _**Pista**_: Lee acerca de la función [unique()](http://pandas.pydata.org/pandas-docs/stable/reference/api/pandas.Series.unique.html?highlight=unique#pandas.Series.unique)"
      ]
    },
    {
      "cell_type": "code",
      "execution_count": null,
      "metadata": {
        "id": "HA2tDgWVSclq"
      },
      "outputs": [],
      "source": [
        "# Obtengo los valores unicos de la columna status\n"
      ]
    },
    {
      "cell_type": "markdown",
      "metadata": {
        "id": "WiIxLWFOIVWS"
      },
      "source": []
    },
    {
      "cell_type": "markdown",
      "metadata": {
        "id": "ps0WfRElSclu"
      },
      "source": [
        "16) ¿Cuantos paises se ubican en cada una de esas categorias de \"Status\"? _**Pista**_: Lee acerca de la función [value_counts()](http://pandas.pydata.org/pandas-docs/stable/reference/api/pandas.Series.value_counts.html)"
      ]
    },
    {
      "cell_type": "code",
      "execution_count": null,
      "metadata": {
        "id": "a8zkd7TTSclw"
      },
      "outputs": [],
      "source": [
        "# Cuento cuantos valores hay de cada categoria\n"
      ]
    },
    {
      "cell_type": "markdown",
      "metadata": {
        "id": "IFvTsLnQSclz"
      },
      "source": [
        "18) ¿Cuantos paises presentaron algun caso de Sarampion (**Measles**) en el 2015? **_Pista_**: Lee acerca de la función [.count()](http://pandas.pydata.org/pandas-docs/stable/reference/api/pandas.DataFrame.count.html?highlight=count#pandas.DataFrame.count)"
      ]
    },
    {
      "cell_type": "code",
      "execution_count": null,
      "metadata": {
        "id": "qOyyukGmSclz"
      },
      "outputs": [],
      "source": [
        "# Cuento cuantas filas tienen valores distintos de cero\n"
      ]
    },
    {
      "cell_type": "code",
      "execution_count": null,
      "metadata": {
        "id": "aFaOi_mmScl2"
      },
      "outputs": [],
      "source": []
    }
  ],
  "metadata": {
    "colab": {
      "provenance": []
    },
    "kernelspec": {
      "display_name": "Python 3",
      "language": "python",
      "name": "python3"
    },
    "language_info": {
      "codemirror_mode": {
        "name": "ipython",
        "version": 3
      },
      "file_extension": ".py",
      "mimetype": "text/x-python",
      "name": "python",
      "nbconvert_exporter": "python",
      "pygments_lexer": "ipython3",
      "version": "3.6.6"
    }
  },
  "nbformat": 4,
  "nbformat_minor": 0
}